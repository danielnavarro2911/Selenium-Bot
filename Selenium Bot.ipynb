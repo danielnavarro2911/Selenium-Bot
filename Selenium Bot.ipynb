{
 "cells": [
  {
   "cell_type": "code",
   "execution_count": 1,
   "id": "62443b8c-790d-4de3-aef0-2a6f8bdf85d4",
   "metadata": {
    "tags": []
   },
   "outputs": [],
   "source": [
    "from selenium import webdriver\n",
    "from selenium.webdriver.common.keys import Keys\n",
    "from selenium.webdriver.common.by import By\n",
    "from selenium.webdriver.support.ui import WebDriverWait\n",
    "from selenium.webdriver.support import expected_conditions as EC\n",
    "from selenium.webdriver.common.keys import Keys"
   ]
  },
  {
   "cell_type": "code",
   "execution_count": 2,
   "id": "1ba15706-daac-4a34-bc63-01edffc84af4",
   "metadata": {
    "tags": []
   },
   "outputs": [],
   "source": [
    "def click(xpath,time=10):\n",
    "    ''''Function that wait a specific time (default 10 seg) for the element (xpath) to be clickeable and then click it'''\n",
    "    WebDriverWait(driver, time).until(EC.element_to_be_clickable((By.XPATH, xpath))).click()\n",
    "def write(texto,xpath,time=10):\n",
    "    ''''Function that wait a specific time (default 10 seg) for the element (xpath) to be clickeable and then write on it'''\n",
    "    WebDriverWait(driver, time).until(EC.element_to_be_clickable((By.XPATH, xpath))).send_keys(texto)\n",
    "def presence(xpath,time=10):\n",
    "    ''''Function that wait a specific time (default 10 seg) for the element (xpath) to be clickeable. This can be used to detect when a page is ready \n",
    "    or to extract data'''\n",
    "    return WebDriverWait(driver, time).until(EC.element_to_be_clickable((By.XPATH, xpath)))"
   ]
  },
  {
   "cell_type": "code",
   "execution_count": 12,
   "id": "dc4a1fe2-b807-4dfa-a185-f795616b852e",
   "metadata": {
    "tags": []
   },
   "outputs": [
    {
     "name": "stdout",
     "output_type": "stream",
     "text": [
      "Number of results and time for hello world:  Cerca de 4,560,000,000 resultados<nobr> (0.23 segundos)&nbsp;</nobr>\n"
     ]
    }
   ],
   "source": [
    "#Example\n",
    "driver = webdriver.Chrome()\n",
    "\n",
    "# Abre Google\n",
    "driver.get(\"https://google.com/\")\n",
    "driver.maximize_window()\n",
    "write('Hello world'+Keys.RETURN,'/html/body/div[1]/div[3]/form/div[1]/div[1]/div[1]/div/div[2]/textarea')\n",
    "print('Number of results and time for hello world: ',presence('/html/body/div[5]/div/div[6]/div/div[1]/div[1]/div/div/div').get_attribute('innerHTML'))\n",
    "driver.close()"
   ]
  },
  {
   "cell_type": "code",
   "execution_count": null,
   "id": "6aafeb87-b9fe-409f-830c-0971af03ade1",
   "metadata": {},
   "outputs": [],
   "source": []
  }
 ],
 "metadata": {
  "kernelspec": {
   "display_name": "Python 3 (ipykernel)",
   "language": "python",
   "name": "python3"
  },
  "language_info": {
   "codemirror_mode": {
    "name": "ipython",
    "version": 3
   },
   "file_extension": ".py",
   "mimetype": "text/x-python",
   "name": "python",
   "nbconvert_exporter": "python",
   "pygments_lexer": "ipython3",
   "version": "3.11.5"
  }
 },
 "nbformat": 4,
 "nbformat_minor": 5
}
